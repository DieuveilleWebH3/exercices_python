{
 "cells": [
  {
   "cell_type": "markdown",
   "id": "f917cf6a",
   "metadata": {},
   "source": [
    "**Exercice 1:** \n",
    "\n",
    "Ecrire une fonction qui prend un tableau d'entiers non vide trié par ordre croissant et qui renvoie un nouveau tableau trié avec les carrés des entiers d'origine \n"
   ]
  },
  {
   "cell_type": "code",
   "execution_count": 12,
   "id": "8cc0f6c6",
   "metadata": {},
   "outputs": [],
   "source": [
    "def tab_square(my_list):\n",
    "    if len(my_list) == 0:\n",
    "        return \" La liste ne peut pas être vide \"\n",
    "\n",
    "    for i in range(0, len(my_list)):\n",
    "        # for i in my_list:\n",
    "        # i = i * i\n",
    "        my_list[i] = my_list[i] * my_list[i]\n",
    "\n",
    "    print(\" Nouvelle liste des carrés : \", my_list)\n",
    "\n",
    "    \n",
    "\n",
    "def tab_square2(my_list):\n",
    "    if len(my_list) == 0:\n",
    "        return \" La liste ne peut pas être vide \"\n",
    "\n",
    "    for i in range(0, len(my_list)):\n",
    "        if i == len(my_list)-1:\n",
    "            break\n",
    "        elif my_list[i] > my_list[i + 1]:\n",
    "            my_list.sort()\n",
    "            break\n",
    "        else:\n",
    "            continue\n",
    "    \n",
    "    new_list = []\n",
    "    \n",
    "    for i in my_list:\n",
    "        new_list.append(i*i)\n",
    "\n",
    "    print(\" Nouvelle liste des carrés : \", new_list)\n",
    "\n",
    "    # return new_list\n",
    "    "
   ]
  },
  {
   "cell_type": "code",
   "execution_count": 13,
   "id": "f690afa0",
   "metadata": {},
   "outputs": [
    {
     "name": "stdout",
     "output_type": "stream",
     "text": [
      " Nouvelle liste des carrés :  [1, 4, 9, 25, 36, 64, 81]\n"
     ]
    }
   ],
   "source": [
    "tab_square([1, 2, 3, 5, 6, 8, 9])"
   ]
  },
  {
   "cell_type": "code",
   "execution_count": 14,
   "id": "1be5b9d1",
   "metadata": {},
   "outputs": [
    {
     "name": "stdout",
     "output_type": "stream",
     "text": [
      " Nouvelle liste des carrés :  [1, 4, 9, 25, 36, 64, 81]\n"
     ]
    }
   ],
   "source": [
    "tab_square2([1, 2, 3, 5, 6, 8, 9])"
   ]
  },
  {
   "cell_type": "code",
   "execution_count": null,
   "id": "39d7164b",
   "metadata": {},
   "outputs": [],
   "source": []
  },
  {
   "cell_type": "markdown",
   "id": "02ce2a58",
   "metadata": {},
   "source": [
    "**Exercice 2:** \n",
    "    \n",
    "Ecrire une fonction qui demande à l'utilisateur de rentrer un entier et renvoyer un tableau de chiffres paires, si le nombre entré par l'utilisateur est paire : le mettre dans le tableau  \n"
   ]
  },
  {
   "cell_type": "code",
   "execution_count": null,
   "id": "79d41d9a",
   "metadata": {},
   "outputs": [],
   "source": []
  }
 ],
 "metadata": {
  "kernelspec": {
   "display_name": "Python 3 (ipykernel)",
   "language": "python",
   "name": "python3"
  },
  "language_info": {
   "codemirror_mode": {
    "name": "ipython",
    "version": 3
   },
   "file_extension": ".py",
   "mimetype": "text/x-python",
   "name": "python",
   "nbconvert_exporter": "python",
   "pygments_lexer": "ipython3",
   "version": "3.8.11"
  }
 },
 "nbformat": 4,
 "nbformat_minor": 5
}
