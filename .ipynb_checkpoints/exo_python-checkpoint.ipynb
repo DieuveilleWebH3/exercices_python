{
 "cells": [
  {
   "cell_type": "markdown",
   "id": "592264ec",
   "metadata": {},
   "source": [
    "**Exercice 1:** \n",
    "\n",
    "Ecrire une fonction qui prend un tableau d'entiers non vide trié par ordre croissant et qui renvoie un nouveau tableau trié avec les carrés des entiers d'origine \n"
   ]
  },
  {
   "cell_type": "code",
   "execution_count": 12,
   "id": "b76aadf6",
   "metadata": {},
   "outputs": [],
   "source": [
    "def tab_square(my_list):\n",
    "    if len(my_list) == 0:\n",
    "        return \" La liste ne peut pas être vide \"\n",
    "\n",
    "    for i in range(0, len(my_list)):\n",
    "        # for i in my_list:\n",
    "        # i = i * i\n",
    "        my_list[i] = my_list[i] * my_list[i]\n",
    "\n",
    "    print(\" Nouvelle liste des carrés : \", my_list)\n",
    "\n",
    "    \n",
    "\n",
    "def tab_square2(my_list):\n",
    "    if len(my_list) == 0:\n",
    "        return \" La liste ne peut pas être vide \"\n",
    "\n",
    "    for i in range(0, len(my_list)):\n",
    "        if i == len(my_list)-1:\n",
    "            break\n",
    "        elif my_list[i] > my_list[i + 1]:\n",
    "            my_list.sort()\n",
    "            break\n",
    "        else:\n",
    "            continue\n",
    "    \n",
    "    new_list = []\n",
    "    \n",
    "    for i in my_list:\n",
    "        new_list.append(i*i)\n",
    "\n",
    "    print(\" Nouvelle liste des carrés : \", new_list)\n",
    "\n",
    "    # return new_list\n",
    "    "
   ]
  },
  {
   "cell_type": "code",
   "execution_count": 13,
   "id": "d8a030a4",
   "metadata": {},
   "outputs": [
    {
     "name": "stdout",
     "output_type": "stream",
     "text": [
      " Nouvelle liste des carrés :  [1, 4, 9, 25, 36, 64, 81]\n"
     ]
    }
   ],
   "source": [
    "tab_square([1, 2, 3, 5, 6, 8, 9])"
   ]
  },
  {
   "cell_type": "code",
   "execution_count": 14,
   "id": "7377b70d",
   "metadata": {},
   "outputs": [
    {
     "name": "stdout",
     "output_type": "stream",
     "text": [
      " Nouvelle liste des carrés :  [1, 4, 9, 25, 36, 64, 81]\n"
     ]
    }
   ],
   "source": [
    "tab_square2([1, 2, 3, 5, 6, 8, 9])"
   ]
  },
  {
   "cell_type": "code",
   "execution_count": null,
   "id": "e3f194b9",
   "metadata": {},
   "outputs": [],
   "source": []
  },
  {
   "cell_type": "code",
   "execution_count": null,
   "id": "9c511acf",
   "metadata": {},
   "outputs": [],
   "source": []
  },
  {
   "cell_type": "markdown",
   "id": "3b9cc5e9",
   "metadata": {},
   "source": [
    "**Exercice 2:** \n",
    "    \n",
    "Ecrire une fonction qui demande à l'utilisateur de rentrer un entier et renvoyer un tableau de chiffres paires, si le nombre entré par l'utilisateur est paire : le mettre dans le tableau  \n"
   ]
  },
  {
   "cell_type": "code",
   "execution_count": 15,
   "id": "e2025dc8",
   "metadata": {},
   "outputs": [],
   "source": [
    "def tab_even():\n",
    "    num = input('Saisir un nombre')\n",
    "    print(\"\\n\")\n",
    "\n",
    "    if not num.isnumeric():\n",
    "        return ' Vous n\\'avez pas saisi un nombre '\n",
    "\n",
    "    num = int(num)\n",
    "\n",
    "    if num <= 0:\n",
    "        return \" Le nombre ne peut pas être inferieur ou égal à 0 \"\n",
    "\n",
    "    my_list = []\n",
    "\n",
    "    for i in range(0, num+1):\n",
    "        if i % 2 == 0:\n",
    "            my_list.append(i)\n",
    "\n",
    "    # return my_list\n",
    "    print(my_list)\n",
    "\n"
   ]
  },
  {
   "cell_type": "code",
   "execution_count": 16,
   "id": "b738dcf6",
   "metadata": {},
   "outputs": [
    {
     "name": "stdout",
     "output_type": "stream",
     "text": [
      "Saisir un nombre7\n",
      "\n",
      "\n",
      "[0, 2, 4, 6]\n"
     ]
    }
   ],
   "source": [
    "tab_even()"
   ]
  },
  {
   "cell_type": "code",
   "execution_count": 17,
   "id": "a46cc8fa",
   "metadata": {},
   "outputs": [
    {
     "name": "stdout",
     "output_type": "stream",
     "text": [
      "Saisir un nombre8\n",
      "\n",
      "\n",
      "[0, 2, 4, 6, 8]\n"
     ]
    }
   ],
   "source": [
    "tab_even()"
   ]
  },
  {
   "cell_type": "code",
   "execution_count": null,
   "id": "d46e1a17",
   "metadata": {},
   "outputs": [],
   "source": []
  },
  {
   "cell_type": "code",
   "execution_count": null,
   "id": "2da3d278",
   "metadata": {},
   "outputs": [],
   "source": []
  },
  {
   "cell_type": "markdown",
   "id": "4a4293e5",
   "metadata": {},
   "source": [
    "**Exercice 3:** \n",
    "    \n",
    "Ecrire une fonction qui calcule la ou les racines d'un polynome du second degré   \n"
   ]
  },
  {
   "cell_type": "code",
   "execution_count": 1,
   "id": "20f5895e",
   "metadata": {},
   "outputs": [],
   "source": [
    "def equation():\n",
    "    num1 = input(' Saisir le coefficient de degré 2 ')\n",
    "\n",
    "    if not num1.isnumeric():\n",
    "        return ' Vous n\\'avez pas saisi un nombre '\n",
    "\n",
    "    num1 = int(num1)\n",
    "\n",
    "    if num1 < 0:\n",
    "        return \" Le nombre ne peut pas être inferieur à 0 \"\n",
    "\n",
    "    num2 = input(' Saisir le coefficient de degré 1 ')\n",
    "\n",
    "    if not num2.isnumeric():\n",
    "        return ' Vous n\\'avez pas saisi un nombre '\n",
    "\n",
    "    num2 = int(num2)\n",
    "\n",
    "    if num2 < 0:\n",
    "        return \" Le nombre ne peut pas être inferieur à 0 \"\n",
    "\n",
    "    num3 = input(' Saisir le coefficient de degré 0 ')\n",
    "\n",
    "    if not num3.isnumeric():\n",
    "        return ' Vous n\\'avez pas saisi un nombre '\n",
    "\n",
    "    num3 = int(num3)\n",
    "\n",
    "    if num3 < 0:\n",
    "        return \" Le nombre ne peut pas être inferieur à 0 \"\n",
    "\n",
    "    print(\" l'équation est : \" + str(num1) + \"x^2 + \" + str(num2) + \"x + \" + str(num3) + \" = 0\")\n",
    "\n",
    "    discriminant = num2**2 - 4*num1*num3\n",
    "\n",
    "    if discriminant < 0:\n",
    "        print(\" Pas de solution réelle \")\n",
    "    elif discriminant == 0:\n",
    "        print(\" x1 = x2 = \" + str(-1 * (num2 / (2*num1))))\n",
    "    else:\n",
    "        print(\"x1 = {}, x2 = {}\".format((((-1*num2)-(discriminant**0.5))/(2*num1)), (((-1*num2)+(discriminant**0.5))/(2*num1))))\n",
    "\n",
    "        \n",
    "\n",
    "# La même fonction pour prendre en compte les nombres négatifs \n",
    "def equation1():\n",
    "    num1 = input(' Saisir le coefficient de degré 2 ')\n",
    "\n",
    "    if '-' in num1:\n",
    "        num1 = num1.split('-')[1]\n",
    "        if not num1.isnumeric():\n",
    "            return ' Vous n\\'avez pas saisi un nombre '\n",
    "        num1 = int(num1)\n",
    "        num1 = -1 * num1\n",
    "    else:\n",
    "        if not num1.isnumeric():\n",
    "            return ' Vous n\\'avez pas saisi un nombre '\n",
    "        num1 = int(num1)\n",
    "    \n",
    "    if num1 == 0:\n",
    "        return ' Le coefficient ne peut pas être égal à zéro '\n",
    "    \n",
    "    num2 = input(' Saisir le coefficient de degré 1 ')\n",
    "\n",
    "    if '-' in num2:\n",
    "        num2 = num2.split('-')[1]\n",
    "        if not num2.isnumeric():\n",
    "            return ' Vous n\\'avez pas saisi un nombre '\n",
    "        num2 = int(num2)\n",
    "        num2 = -1 * num2\n",
    "    else:\n",
    "        if not num2.isnumeric():\n",
    "            return ' Vous n\\'avez pas saisi un nombre '\n",
    "        num2 = int(num2)\n",
    "\n",
    "    num3 = input(' Saisir le coefficient de degré 0 ')\n",
    "\n",
    "    if '-' in num3:\n",
    "        num3 = num3.split('-')[1]\n",
    "        if not num3.isnumeric():\n",
    "            return ' Vous n\\'avez pas saisi un nombre '\n",
    "        num3 = int(num3)\n",
    "        num3 = -1 * num3\n",
    "    else:\n",
    "        if not num3.isnumeric():\n",
    "            return ' Vous n\\'avez pas saisi un nombre '\n",
    "        num3 = int(num3)\n",
    "\n",
    "    print(\" l'équation est : \" + str(num1) + \"x^2 + \" + str(num2) + \"x + \" + str(num3) + \" = 0\")\n",
    "\n",
    "    discriminant = num2**2 - 4*num1*num3\n",
    "\n",
    "    if discriminant < 0:\n",
    "        print(\" Pas de solution réelle \")\n",
    "    elif discriminant == 0:\n",
    "        print(\" x1 = x2 = \" + str(-1 * (num2 / (2*num1))))\n",
    "    else:\n",
    "        print(\"x1 = {}, x2 = {}\".format((((-1*num2)-(discriminant**0.5))/(2*num1)), (((-1*num2)+(discriminant**0.5))/(2*num1))))\n",
    "\n",
    "\n",
    "        "
   ]
  },
  {
   "cell_type": "code",
   "execution_count": 19,
   "id": "79e93c9c",
   "metadata": {},
   "outputs": [
    {
     "name": "stdout",
     "output_type": "stream",
     "text": [
      " Saisir le coefficient de degré 2 5\n",
      " Saisir le coefficient de degré 1 3\n",
      " Saisir le coefficient de degré 0 2\n",
      " l'équation est : 5x^2 + 3x + 2 = 0\n",
      " Pas de solution réelle \n"
     ]
    }
   ],
   "source": [
    "equation()"
   ]
  },
  {
   "cell_type": "code",
   "execution_count": 20,
   "id": "be2d1eb1",
   "metadata": {},
   "outputs": [
    {
     "name": "stdout",
     "output_type": "stream",
     "text": [
      " Saisir le coefficient de degré 2 3\n",
      " Saisir le coefficient de degré 1 6\n",
      " Saisir le coefficient de degré 0 1\n",
      " l'équation est : 3x^2 + 6x + 1 = 0\n",
      "x1 = -1.816496580927726, x2 = -0.18350341907227405\n"
     ]
    }
   ],
   "source": [
    "equation()"
   ]
  },
  {
   "cell_type": "code",
   "execution_count": 21,
   "id": "7801a867",
   "metadata": {},
   "outputs": [
    {
     "name": "stdout",
     "output_type": "stream",
     "text": [
      " Saisir le coefficient de degré 2 1\n",
      " Saisir le coefficient de degré 1 0\n",
      " Saisir le coefficient de degré 0 -1\n"
     ]
    },
    {
     "data": {
      "text/plain": [
       "\" Vous n'avez pas saisi un nombre \""
      ]
     },
     "execution_count": 21,
     "metadata": {},
     "output_type": "execute_result"
    }
   ],
   "source": [
    "equation()"
   ]
  },
  {
   "cell_type": "code",
   "execution_count": 22,
   "id": "291c4952",
   "metadata": {},
   "outputs": [
    {
     "name": "stdout",
     "output_type": "stream",
     "text": [
      " Saisir le coefficient de degré 2 1\n",
      " Saisir le coefficient de degré 1 0\n",
      " Saisir le coefficient de degré 0 -1\n",
      " l'équation est : 1x^2 + 0x + -1 = 0\n",
      "x1 = -1.0, x2 = 1.0\n"
     ]
    }
   ],
   "source": [
    "equation1()"
   ]
  },
  {
   "cell_type": "code",
   "execution_count": 26,
   "id": "5b3f3e4f",
   "metadata": {},
   "outputs": [
    {
     "name": "stdout",
     "output_type": "stream",
     "text": [
      " Saisir le coefficient de degré 2 -1\n",
      " Saisir le coefficient de degré 1 3\n",
      " Saisir le coefficient de degré 0 1\n",
      " l'équation est : -1x^2 + 3x + 1 = 0\n",
      "x1 = 3.302775637731995, x2 = -0.30277563773199456\n"
     ]
    }
   ],
   "source": [
    "equation1()"
   ]
  },
  {
   "cell_type": "code",
   "execution_count": 27,
   "id": "e158c71a",
   "metadata": {},
   "outputs": [
    {
     "name": "stdout",
     "output_type": "stream",
     "text": [
      " Saisir le coefficient de degré 2 3\n",
      " Saisir le coefficient de degré 1 6\n",
      " Saisir le coefficient de degré 0 1\n",
      " l'équation est : 3x^2 + 6x + 1 = 0\n",
      "x1 = -1.816496580927726, x2 = -0.18350341907227405\n"
     ]
    }
   ],
   "source": [
    "equation1()"
   ]
  },
  {
   "cell_type": "code",
   "execution_count": 2,
   "id": "318bfa81",
   "metadata": {},
   "outputs": [
    {
     "name": "stdout",
     "output_type": "stream",
     "text": [
      " Saisir le coefficient de degré 2 0\n"
     ]
    },
    {
     "data": {
      "text/plain": [
       "' Le coefficient ne peut pas être égal à zéro '"
      ]
     },
     "execution_count": 2,
     "metadata": {},
     "output_type": "execute_result"
    }
   ],
   "source": [
    "equation1()"
   ]
  },
  {
   "cell_type": "code",
   "execution_count": null,
   "id": "4ac0deb9",
   "metadata": {},
   "outputs": [],
   "source": []
  },
  {
   "cell_type": "code",
   "execution_count": null,
   "id": "1787e51a",
   "metadata": {},
   "outputs": [],
   "source": []
  },
  {
   "cell_type": "markdown",
   "id": "83888122",
   "metadata": {},
   "source": [
    "**Exercice 4:** \n",
    "\n",
    "Ecrire une fonction qui prend une chaîne et renvoie True si c'est in palindrome False si non.\n",
    " \n"
   ]
  },
  {
   "cell_type": "code",
   "execution_count": 3,
   "id": "e3b04a1a",
   "metadata": {},
   "outputs": [],
   "source": [
    "def palindrome(my_string):\n",
    "\n",
    "    if my_string[::-1] == my_string:\n",
    "        return True\n",
    "    else:\n",
    "        return False\n",
    "\n",
    "\n",
    "def palindrome1(my_string):\n",
    "    my_string = my_string.lower()\n",
    "    my_string = my_string.replace(' ', '')\n",
    "\n",
    "    if my_string[::-1] == my_string:\n",
    "        return True\n",
    "    else:\n",
    "        return False\n",
    "\n"
   ]
  },
  {
   "cell_type": "code",
   "execution_count": 4,
   "id": "01fc2c84",
   "metadata": {},
   "outputs": [
    {
     "data": {
      "text/plain": [
       "True"
      ]
     },
     "execution_count": 4,
     "metadata": {},
     "output_type": "execute_result"
    }
   ],
   "source": [
    "palindrome(\"bob\")"
   ]
  },
  {
   "cell_type": "code",
   "execution_count": 10,
   "id": "b386ebab",
   "metadata": {},
   "outputs": [
    {
     "data": {
      "text/plain": [
       "False"
      ]
     },
     "execution_count": 10,
     "metadata": {},
     "output_type": "execute_result"
    }
   ],
   "source": [
    "palindrome(\"papa\")"
   ]
  },
  {
   "cell_type": "code",
   "execution_count": 7,
   "id": "86e7ddcf",
   "metadata": {},
   "outputs": [
    {
     "data": {
      "text/plain": [
       "True"
      ]
     },
     "execution_count": 7,
     "metadata": {},
     "output_type": "execute_result"
    }
   ],
   "source": [
    "palindrome(\"kayak\")"
   ]
  },
  {
   "cell_type": "code",
   "execution_count": 14,
   "id": "819b781a",
   "metadata": {},
   "outputs": [
    {
     "data": {
      "text/plain": [
       "False"
      ]
     },
     "execution_count": 14,
     "metadata": {},
     "output_type": "execute_result"
    }
   ],
   "source": [
    "palindrome(\"Kayak\")"
   ]
  },
  {
   "cell_type": "code",
   "execution_count": 15,
   "id": "835ac9db",
   "metadata": {},
   "outputs": [
    {
     "data": {
      "text/plain": [
       "False"
      ]
     },
     "execution_count": 15,
     "metadata": {},
     "output_type": "execute_result"
    }
   ],
   "source": [
    "palindrome(\"Engage le jeu que je le gagne\")"
   ]
  },
  {
   "cell_type": "code",
   "execution_count": 18,
   "id": "3ff4deb7",
   "metadata": {},
   "outputs": [
    {
     "data": {
      "text/plain": [
       "False"
      ]
     },
     "execution_count": 18,
     "metadata": {},
     "output_type": "execute_result"
    }
   ],
   "source": [
    "palindrome(\"engage le jeu que je le gagne\")"
   ]
  },
  {
   "cell_type": "code",
   "execution_count": 16,
   "id": "540f33e3",
   "metadata": {},
   "outputs": [
    {
     "data": {
      "text/plain": [
       "True"
      ]
     },
     "execution_count": 16,
     "metadata": {},
     "output_type": "execute_result"
    }
   ],
   "source": [
    "palindrome1(\"Engage le jeu que je le gagne\")"
   ]
  },
  {
   "cell_type": "code",
   "execution_count": 17,
   "id": "487b5a28",
   "metadata": {},
   "outputs": [
    {
     "data": {
      "text/plain": [
       "True"
      ]
     },
     "execution_count": 17,
     "metadata": {},
     "output_type": "execute_result"
    }
   ],
   "source": [
    "palindrome1(\"Kayak\")"
   ]
  },
  {
   "cell_type": "code",
   "execution_count": null,
   "id": "ca78d4c9",
   "metadata": {},
   "outputs": [],
   "source": []
  },
  {
   "cell_type": "code",
   "execution_count": null,
   "id": "0b108aea",
   "metadata": {},
   "outputs": [],
   "source": []
  },
  {
   "cell_type": "markdown",
   "id": "6675c250",
   "metadata": {},
   "source": [
    "**Exercice 5 :**\n",
    "\n"
   ]
  },
  {
   "cell_type": "code",
   "execution_count": 21,
   "id": "cbf10bdb",
   "metadata": {},
   "outputs": [],
   "source": [
    "# ******************** Exercice 5 Compétition\n",
    "\n",
    "# Correction M. Ballard\n",
    "\n",
    "def team(my_list):\n",
    "    new_list = []\n",
    "\n",
    "    for i, e in enumerate(my_list):\n",
    "        if e[0] not in new_list:\n",
    "            new_list.append(e[0])\n",
    "        elif e[1] not in new_list:\n",
    "            new_list.append(e[1])\n",
    "\n",
    "    d = {e: 0 for e in new_list}\n",
    "    return d\n",
    "\n",
    "\n",
    "def winner(my_list1, my_list2):\n",
    "    d = team(my_list1)\n",
    "\n",
    "    for i, e in enumerate(my_list1):\n",
    "        if my_list2[i] == 0:\n",
    "            d[e[1]] += 1\n",
    "        else:\n",
    "            d[e[0]] += 1\n",
    "\n",
    "    for k,v in d.items():\n",
    "        if v == max(d.values()):\n",
    "            return k\n"
   ]
  },
  {
   "cell_type": "code",
   "execution_count": 23,
   "id": "f300e842",
   "metadata": {},
   "outputs": [
    {
     "data": {
      "text/plain": [
       "'Python'"
      ]
     },
     "execution_count": 23,
     "metadata": {},
     "output_type": "execute_result"
    }
   ],
   "source": [
    "c = [[\"HTML\", \"C#\"], [\"C#\", \"Python\"], [\"Python\", \"HTML\"]]\n",
    "r = [0, 0, 1]\n",
    "\n",
    "winner(c, r)"
   ]
  },
  {
   "cell_type": "code",
   "execution_count": 25,
   "id": "36f26574",
   "metadata": {},
   "outputs": [
    {
     "data": {
      "text/plain": [
       "'C#'"
      ]
     },
     "execution_count": 25,
     "metadata": {},
     "output_type": "execute_result"
    }
   ],
   "source": [
    "c = [[\"HTML\", \"C#\"], [\"C#\", \"Python\"], [\"Python\", \"HTML\"]]\n",
    "r = [0, 1, 1]\n",
    "\n",
    "winner(c, r)"
   ]
  },
  {
   "cell_type": "code",
   "execution_count": 26,
   "id": "074406ff",
   "metadata": {},
   "outputs": [
    {
     "data": {
      "text/plain": [
       "'HTML'"
      ]
     },
     "execution_count": 26,
     "metadata": {},
     "output_type": "execute_result"
    }
   ],
   "source": [
    "c = [[\"HTML\", \"C#\"], [\"C#\", \"Python\"], [\"Python\", \"HTML\"]]\n",
    "r = [0, 0, 0]\n",
    "\n",
    "winner(c, r)"
   ]
  },
  {
   "cell_type": "code",
   "execution_count": 27,
   "id": "d5822e1f",
   "metadata": {},
   "outputs": [
    {
     "data": {
      "text/plain": [
       "'HTML'"
      ]
     },
     "execution_count": 27,
     "metadata": {},
     "output_type": "execute_result"
    }
   ],
   "source": [
    "c = [[\"HTML\", \"C#\"], [\"C#\", \"Python\"], [\"Python\", \"HTML\"]]\n",
    "r = [1, 1, 1]\n",
    " \n",
    "winner(c, r)"
   ]
  },
  {
   "cell_type": "code",
   "execution_count": null,
   "id": "da4a5aaa",
   "metadata": {},
   "outputs": [],
   "source": []
  },
  {
   "cell_type": "code",
   "execution_count": null,
   "id": "33a211e4",
   "metadata": {},
   "outputs": [],
   "source": []
  },
  {
   "cell_type": "code",
   "execution_count": null,
   "id": "fae11d47",
   "metadata": {},
   "outputs": [],
   "source": []
  },
  {
   "cell_type": "markdown",
   "id": "86cbb213",
   "metadata": {},
   "source": [
    "** Exercice **\n"
   ]
  }
 ],
 "metadata": {
  "kernelspec": {
   "display_name": "Python 3 (ipykernel)",
   "language": "python",
   "name": "python3"
  },
  "language_info": {
   "codemirror_mode": {
    "name": "ipython",
    "version": 3
   },
   "file_extension": ".py",
   "mimetype": "text/x-python",
   "name": "python",
   "nbconvert_exporter": "python",
   "pygments_lexer": "ipython3",
   "version": "3.8.11"
  }
 },
 "nbformat": 4,
 "nbformat_minor": 5
}
